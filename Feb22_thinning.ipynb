{
 "cells": [
  {
   "cell_type": "code",
   "execution_count": 2,
   "metadata": {},
   "outputs": [
    {
     "name": "stdout",
     "output_type": "stream",
     "text": [
      "3663547 36635470\n"
     ]
    }
   ],
   "source": [
    "#thinning Data\n",
    "data = \"/global/cscratch1/sd/huikong/obiwan_data/obiwanramdom_hk/output_uniform/Version2/uniform_random.fits\"\n",
    "import astropy.io.fits as fits\n",
    "import numpy as np\n",
    "dat = fits.open(data)[1].data\n",
    "dat2 = np.array(dat[::10])\n",
    "print len(dat2),len(dat)"
   ]
  },
  {
   "cell_type": "code",
   "execution_count": 3,
   "metadata": {},
   "outputs": [],
   "source": [
    "coldefs_elg_rdN_flagged = fits.ColDefs(dat2)\n",
    "elg_rdN_flagged_hdu = fits.BinTableHDU.from_columns(coldefs_elg_rdN_flagged)\n",
    "elg_rdN_flagged_hdu.writeto('/global/cscratch1/sd/huikong/obiwan_data/obiwanramdom_hk/output_uniform/Version2/uniform_random_thinning10.fits',overwrite = True)"
   ]
  },
  {
   "cell_type": "code",
   "execution_count": 1,
   "metadata": {},
   "outputs": [],
   "source": [
    "#reconstruct data\n",
    "data = '/global/homes/h/huikong/obiwan_test/obiwan_eboss/data/rawdata/ELGNGCtestfull.dat.fits'\n",
    "random = '/global/homes/h/huikong/obiwan_test/obiwan_eboss/data/rawdata/ELGNGCtestfull.ran.fits'\n",
    "import astropy.io.fits as fits\n",
    "import numpy as np\n",
    "dat = fits.open(data)[1].data\n",
    "ran = fits.open(random)[1].data\n",
    "\n",
    "coldefs_elg_rdN_flagged = fits.ColDefs(dat)\n",
    "elg_rdN_flagged_hdu = fits.BinTableHDU.from_columns(coldefs_elg_rdN_flagged)\n",
    "elg_rdN_flagged_hdu.writeto('/global/homes/h/huikong/obiwan_test/obiwan_eboss/data/rawdata/ELGNGCtestfull_V2.dat.fits',overwrite = True)\n",
    "\n",
    "coldefs_elg_rdN_flagged = fits.ColDefs(ran)\n",
    "elg_rdN_flagged_hdu = fits.BinTableHDU.from_columns(coldefs_elg_rdN_flagged)\n",
    "elg_rdN_flagged_hdu.writeto('/global/homes/h/huikong/obiwan_test/obiwan_eboss/data/rawdata/ELGNGCtestfull_V2.ran.fits',overwrite = True)"
   ]
  },
  {
   "cell_type": "code",
   "execution_count": 3,
   "metadata": {},
   "outputs": [],
   "source": [
    "#test table validity\n",
    "from astropy.table import Table\n",
    "from astropy.io import fits\n",
    "import numpy as np\n",
    "data = '/global/homes/h/huikong/obiwan_test/obiwan_eboss/data/rawdata/ELGNGCtestfull.dat.fits'\n",
    "random = '/global/homes/h/huikong/obiwan_test/obiwan_eboss/data/rawdata/ELGNGCtestfull.ran.fits'\n",
    "dat = fits.open(data)[1]\n",
    "ran = fits.open(random)[1]\n",
    "\n",
    "coldefs_elg_rdN_flagged = fits.ColDefs(dat.columns)\n",
    "elg_rdN_flagged_hdu = fits.BinTableHDU.from_columns(coldefs_elg_rdN_flagged)\n",
    "tb_dat = Table.read(elg_rdN_flagged_hdu)"
   ]
  },
  {
   "cell_type": "code",
   "execution_count": 6,
   "metadata": {},
   "outputs": [
    {
     "name": "stdout",
     "output_type": "stream",
     "text": [
      "122436 147.63394165\n"
     ]
    }
   ],
   "source": [
    "print len(tb_dat),dat['ra'][0]"
   ]
  },
  {
   "cell_type": "code",
   "execution_count": 5,
   "metadata": {},
   "outputs": [
    {
     "ename": "KeyError",
     "evalue": "'ra'",
     "output_type": "error",
     "traceback": [
      "\u001b[0;31m\u001b[0m",
      "\u001b[0;31mKeyError\u001b[0mTraceback (most recent call last)",
      "\u001b[0;32m<ipython-input-5-b7a4b4149215>\u001b[0m in \u001b[0;36m<module>\u001b[0;34m()\u001b[0m\n\u001b[0;32m----> 1\u001b[0;31m \u001b[0;32mprint\u001b[0m \u001b[0mtb_dat\u001b[0m\u001b[0;34m[\u001b[0m\u001b[0;34m'ra'\u001b[0m\u001b[0;34m]\u001b[0m\u001b[0;34m[\u001b[0m\u001b[0;36m0\u001b[0m\u001b[0;34m]\u001b[0m\u001b[0;34m\u001b[0m\u001b[0m\n\u001b[0m",
      "\u001b[0;32m/usr/common/software/python/2.7-anaconda-4.4/lib/python2.7/site-packages/astropy/table/table.pyc\u001b[0m in \u001b[0;36m__getitem__\u001b[0;34m(self, item)\u001b[0m\n\u001b[1;32m   1222\u001b[0m     \u001b[0;32mdef\u001b[0m \u001b[0m__getitem__\u001b[0m\u001b[0;34m(\u001b[0m\u001b[0mself\u001b[0m\u001b[0;34m,\u001b[0m \u001b[0mitem\u001b[0m\u001b[0;34m)\u001b[0m\u001b[0;34m:\u001b[0m\u001b[0;34m\u001b[0m\u001b[0m\n\u001b[1;32m   1223\u001b[0m         \u001b[0;32mif\u001b[0m \u001b[0misinstance\u001b[0m\u001b[0;34m(\u001b[0m\u001b[0mitem\u001b[0m\u001b[0;34m,\u001b[0m \u001b[0msix\u001b[0m\u001b[0;34m.\u001b[0m\u001b[0mstring_types\u001b[0m\u001b[0;34m)\u001b[0m\u001b[0;34m:\u001b[0m\u001b[0;34m\u001b[0m\u001b[0m\n\u001b[0;32m-> 1224\u001b[0;31m             \u001b[0;32mreturn\u001b[0m \u001b[0mself\u001b[0m\u001b[0;34m.\u001b[0m\u001b[0mcolumns\u001b[0m\u001b[0;34m[\u001b[0m\u001b[0mitem\u001b[0m\u001b[0;34m]\u001b[0m\u001b[0;34m\u001b[0m\u001b[0m\n\u001b[0m\u001b[1;32m   1225\u001b[0m         \u001b[0;32melif\u001b[0m \u001b[0misinstance\u001b[0m\u001b[0;34m(\u001b[0m\u001b[0mitem\u001b[0m\u001b[0;34m,\u001b[0m \u001b[0;34m(\u001b[0m\u001b[0mint\u001b[0m\u001b[0;34m,\u001b[0m \u001b[0mnp\u001b[0m\u001b[0;34m.\u001b[0m\u001b[0minteger\u001b[0m\u001b[0;34m)\u001b[0m\u001b[0;34m)\u001b[0m\u001b[0;34m:\u001b[0m\u001b[0;34m\u001b[0m\u001b[0m\n\u001b[1;32m   1226\u001b[0m             \u001b[0;32mreturn\u001b[0m \u001b[0mself\u001b[0m\u001b[0;34m.\u001b[0m\u001b[0mRow\u001b[0m\u001b[0;34m(\u001b[0m\u001b[0mself\u001b[0m\u001b[0;34m,\u001b[0m \u001b[0mitem\u001b[0m\u001b[0;34m)\u001b[0m\u001b[0;34m\u001b[0m\u001b[0m\n",
      "\u001b[0;32m/usr/common/software/python/2.7-anaconda-4.4/lib/python2.7/site-packages/astropy/table/table.pyc\u001b[0m in \u001b[0;36m__getitem__\u001b[0;34m(self, item)\u001b[0m\n\u001b[1;32m    107\u001b[0m         \"\"\"\n\u001b[1;32m    108\u001b[0m         \u001b[0;32mif\u001b[0m \u001b[0misinstance\u001b[0m\u001b[0;34m(\u001b[0m\u001b[0mitem\u001b[0m\u001b[0;34m,\u001b[0m \u001b[0msix\u001b[0m\u001b[0;34m.\u001b[0m\u001b[0mstring_types\u001b[0m\u001b[0;34m)\u001b[0m\u001b[0;34m:\u001b[0m\u001b[0;34m\u001b[0m\u001b[0m\n\u001b[0;32m--> 109\u001b[0;31m             \u001b[0;32mreturn\u001b[0m \u001b[0mOrderedDict\u001b[0m\u001b[0;34m.\u001b[0m\u001b[0m__getitem__\u001b[0m\u001b[0;34m(\u001b[0m\u001b[0mself\u001b[0m\u001b[0;34m,\u001b[0m \u001b[0mitem\u001b[0m\u001b[0;34m)\u001b[0m\u001b[0;34m\u001b[0m\u001b[0m\n\u001b[0m\u001b[1;32m    110\u001b[0m         \u001b[0;32melif\u001b[0m \u001b[0misinstance\u001b[0m\u001b[0;34m(\u001b[0m\u001b[0mitem\u001b[0m\u001b[0;34m,\u001b[0m \u001b[0;34m(\u001b[0m\u001b[0mint\u001b[0m\u001b[0;34m,\u001b[0m \u001b[0mnp\u001b[0m\u001b[0;34m.\u001b[0m\u001b[0minteger\u001b[0m\u001b[0;34m)\u001b[0m\u001b[0;34m)\u001b[0m\u001b[0;34m:\u001b[0m\u001b[0;34m\u001b[0m\u001b[0m\n\u001b[1;32m    111\u001b[0m             \u001b[0;32mreturn\u001b[0m \u001b[0mself\u001b[0m\u001b[0;34m.\u001b[0m\u001b[0mvalues\u001b[0m\u001b[0;34m(\u001b[0m\u001b[0;34m)\u001b[0m\u001b[0;34m[\u001b[0m\u001b[0mitem\u001b[0m\u001b[0;34m]\u001b[0m\u001b[0;34m\u001b[0m\u001b[0m\n",
      "\u001b[0;31mKeyError\u001b[0m: 'ra'"
     ]
    }
   ],
   "source": [
    "print tb_dat['ra'][0]"
   ]
  },
  {
   "cell_type": "code",
   "execution_count": 8,
   "metadata": {},
   "outputs": [
    {
     "name": "stdout",
     "output_type": "stream",
     "text": [
      "10352 127.021715362 127.021715362\n"
     ]
    }
   ],
   "source": [
    "data = '/global/homes/h/huikong/obiwan_test/output_V3/elg_N_Feb15.fits'\n",
    "random ='/global/homes/h/huikong/obiwan_test/output_V3/elg_rdN_Feb15.fits'\n",
    "dat = fits.open(data)[1].data\n",
    "ran = fits.open(random)[1].data\n",
    "\n",
    "coldefs_elg_rdN_flagged = fits.ColDefs(dat.columns)\n",
    "elg_rdN_flagged_hdu = fits.BinTableHDU.from_columns(coldefs_elg_rdN_flagged)\n",
    "tb_dat = Table.read(elg_rdN_flagged_hdu)\n",
    "print len(tb_dat),dat['ra'][0],tb_dat['ra'][0]"
   ]
  },
  {
   "cell_type": "code",
   "execution_count": 4,
   "metadata": {},
   "outputs": [
    {
     "data": {
      "text/plain": [
       "[<matplotlib.lines.Line2D at 0x2b2aba2b7450>]"
      ]
     },
     "execution_count": 4,
     "metadata": {},
     "output_type": "execute_result"
    },
    {
     "data": {
      "image/png": "[encoded data removed]",
      "text/plain": [
       "<matplotlib.figure.Figure at 0x2b2a83d75b10>"
      ]
     },
     "metadata": {},
     "output_type": "display_data"
    }
   ],
   "source": [
    "#see map:\n",
    "from astropy.table import Table\n",
    "from astropy.io import fits\n",
    "import numpy as np\n",
    "data = '/global/homes/h/huikong/obiwan_test/obiwan_eboss/data/rawdata/ELGNGCtestfull.dat.fits'\n",
    "random = '/global/homes/h/huikong/obiwan_test/obiwan_eboss/data/rawdata/ELGNGCtestfull.ran.fits'\n",
    "dat = fits.open(data)[1].data\n",
    "ran = fits.open(random)[1].data\n",
    "\n",
    "%matplotlib inline\n",
    "import matplotlib.pyplot as plt\n",
    "plt.plot(ran['ra'],ran['dec'],'b,')"
   ]
  },
  {
   "cell_type": "code",
   "execution_count": 3,
   "metadata": {},
   "outputs": [
    {
     "data": {
      "text/plain": [
       "[<matplotlib.lines.Line2D at 0x2b2ab8b38350>]"
      ]
     },
     "execution_count": 3,
     "metadata": {},
     "output_type": "execute_result"
    },
    {
     "data": {
      "image/png": "[encoded data removed]",
      "text/plain": [
       "<matplotlib.figure.Figure at 0x2b2ab869e290>"
      ]
     },
     "metadata": {},
     "output_type": "display_data"
    }
   ],
   "source": [
    "plt.plot(dat['ra'],dat['dec'],'r,')"
   ]
  },
  {
   "cell_type": "code",
   "execution_count": 5,
   "metadata": {},
   "outputs": [
    {
     "name": "stdout",
     "output_type": "stream",
     "text": [
      "122436 5198167\n"
     ]
    }
   ],
   "source": [
    "print len(dat),len(ran)"
   ]
  },
  {
   "cell_type": "code",
   "execution_count": 12,
   "metadata": {},
   "outputs": [
    {
     "data": {
      "text/plain": [
       "[<matplotlib.lines.Line2D at 0x2b2ab8f3ded0>]"
      ]
     },
     "execution_count": 12,
     "metadata": {},
     "output_type": "execute_result"
    },
    {
     "data": {
      "image/png": "[encoded data removed]",
      "text/plain": [
       "<matplotlib.figure.Figure at 0x2b2ab8b9dc90>"
      ]
     },
     "metadata": {},
     "output_type": "display_data"
    }
   ],
   "source": [
    "#see map obiwan_a:\n",
    "from astropy.table import Table\n",
    "from astropy.io import fits\n",
    "import numpy as np\n",
    "data = '/global/homes/h/huikong/obiwan_test/obiwan_eboss/data/rawdata/ELGNGCtestfull.dat.fits'\n",
    "random_a = '/global/homes/h/huikong/obiwan_test/obiwan_eboss/data/rawdata/randoms_obiwan_a_eboss.fits'\n",
    "random_b = '/global/homes/h/huikong/obiwan_test/obiwan_eboss/data/rawdata/randoms_obiwan_b_eboss.fits'\n",
    "random_u = '/global/homes/h/huikong/obiwan_test/obiwan_eboss/data/rawdata/randoms_uniform_eboss.fits'\n",
    "dat = fits.open(data)[1].data\n",
    "ran_a = fits.open(random_a)[1].data\n",
    "ran_b = fits.open(random_b)[1].data\n",
    "ran_u = fits.open(random_u)[1].data\n",
    "%matplotlib inline\n",
    "import matplotlib.pyplot as plt\n",
    "plt.plot(ran['ra'],ran['dec'],'b,')\n",
    "#plt.plot(ran_b['ra'],ran_b['dec'],'r,')\n",
    "#plt.plot(ran_u['ra'],ran_u['dec'],'k,')"
   ]
  },
  {
   "cell_type": "code",
   "execution_count": 17,
   "metadata": {},
   "outputs": [
    {
     "data": {
      "text/plain": [
       "ColDefs(\n",
       "    name = 'RA'; format = 'D'\n",
       "    name = 'DEC'; format = 'D'\n",
       "    name = 'Z'; format = 'D'\n",
       "    name = 'WEIGHT_CP'; format = 'D'\n",
       "    name = 'COMP_TSR'; format = 'D'\n",
       "    name = 'COMP_BOSS'; format = 'D'\n",
       "    name = 'CHUNK'; format = '10A'\n",
       "    name = 'SECTOR'; format = 'K'\n",
       "    name = 'PLATE'; format = 'K'\n",
       "    name = 'DECALS_OBJID'; format = 'K'\n",
       "    name = 'COLLIDER_DECALS_OBJID'; format = 'K'\n",
       "    name = 'TYPE_FLAG'; format = 'K'\n",
       "    name = 'sector_SSR'; format = 'D'\n",
       "    name = 'plate_rSN2'; format = 'D'\n",
       "    name = 'XFOCAL'; format = 'D'\n",
       "    name = 'YFOCAL'; format = 'D'\n",
       "    name = 'FIBERID'; format = 'K'\n",
       "    name = 'galdepth_g'; format = 'D'\n",
       "    name = 'galdepth_r'; format = 'D'\n",
       "    name = 'galdepth_z'; format = 'D'\n",
       "    name = 'ebv'; format = 'D'\n",
       "    name = 'psfsize_g'; format = 'D'\n",
       "    name = 'psfsize_r'; format = 'D'\n",
       "    name = 'psfsize_z'; format = 'D'\n",
       ")"
      ]
     },
     "execution_count": 17,
     "metadata": {},
     "output_type": "execute_result"
    }
   ],
   "source": [
    "dat.columns"
   ]
  },
  {
   "cell_type": "code",
   "execution_count": null,
   "metadata": {},
   "outputs": [],
   "source": []
  }
 ],
 "metadata": {
  "kernelspec": {
   "display_name": "Python 2",
   "language": "python",
   "name": "python2"
  },
  "language_info": {
   "codemirror_mode": {
    "name": "ipython",
    "version": 2
   },
   "file_extension": ".py",
   "mimetype": "text/x-python",
   "name": "python",
   "nbconvert_exporter": "python",
   "pygments_lexer": "ipython2",
   "version": "2.7.13"
  }
 },
 "nbformat": 4,
 "nbformat_minor": 2
}
